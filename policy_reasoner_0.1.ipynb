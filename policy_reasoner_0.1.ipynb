{
 "cells": [
  {
   "cell_type": "code",
   "execution_count": 1,
   "id": "43000fbf-bf3e-47c1-a5a6-c3810d17ca90",
   "metadata": {},
   "outputs": [
    {
     "name": "stderr",
     "output_type": "stream",
     "text": [
      "/Users/shervin/opt/anaconda3/envs/UM/lib/python3.9/site-packages/tqdm/auto.py:22: TqdmWarning: IProgress not found. Please update jupyter and ipywidgets. See https://ipywidgets.readthedocs.io/en/stable/user_install.html\n",
      "  from .autonotebook import tqdm as notebook_tqdm\n"
     ]
    }
   ],
   "source": [
    "import  os\n",
    "import  re\n",
    "import glob\n",
    "\n",
    "import  pandas as pd\n",
    "import  numpy as np\n",
    "\n",
    "from src.utils import *\n",
    "from src.models import TransE, rTransE\n",
    "\n",
    "from src.env import Env\n",
    "from src.agent import DQN_Network, ExperienceReplay"
   ]
  },
  {
   "cell_type": "code",
   "execution_count": 2,
   "id": "41a4c9bf-36e8-494b-8d88-0bd717a36e53",
   "metadata": {},
   "outputs": [],
   "source": [
    "CLG_dbs = [ { 'path'      : 'datasets/clg/clg_10e4/',\n",
    "                'train_file'  : 'clg_10e4-train.nt',\n",
    "                'test_file'   : 'clg_10e4-test.nt-e'}]"
   ]
  },
  {
   "cell_type": "code",
   "execution_count": 3,
   "id": "8b610e84-9d34-4b64-95c8-cae997f89dde",
   "metadata": {},
   "outputs": [
    {
     "name": "stdout",
     "output_type": "stream",
     "text": [
      "Running... clg_10e4-train.nt clg_10e4-test.nt-e\n"
     ]
    }
   ],
   "source": [
    "for db_ in CLG_dbs:\n",
    "    path = db_['path']\n",
    "    train_file= db_['train_file']\n",
    "    test_file= db_['test_file']\n",
    "    \n",
    "    print('Running...', train_file, test_file)\n",
    "    \n",
    "    train_df = load_clg_files(path+train_file)\n",
    "    \n",
    "    "
   ]
  },
  {
   "cell_type": "code",
   "execution_count": 4,
   "id": "9bbc44c8-7c95-4c75-910a-7510e3d013ba",
   "metadata": {},
   "outputs": [
    {
     "data": {
      "text/html": [
       "<div>\n",
       "<style scoped>\n",
       "    .dataframe tbody tr th:only-of-type {\n",
       "        vertical-align: middle;\n",
       "    }\n",
       "\n",
       "    .dataframe tbody tr th {\n",
       "        vertical-align: top;\n",
       "    }\n",
       "\n",
       "    .dataframe thead th {\n",
       "        text-align: right;\n",
       "    }\n",
       "</style>\n",
       "<table border=\"1\" class=\"dataframe\">\n",
       "  <thead>\n",
       "    <tr style=\"text-align: right;\">\n",
       "      <th></th>\n",
       "      <th>s</th>\n",
       "      <th>o</th>\n",
       "      <th>p</th>\n",
       "    </tr>\n",
       "  </thead>\n",
       "  <tbody>\n",
       "    <tr>\n",
       "      <th>0</th>\n",
       "      <td>&lt;http://caligraph.org/ontology/Mosque_complete...</td>\n",
       "      <td>&lt;http://caligraph.org/ontology/Architectural_s...</td>\n",
       "      <td>&lt;http://www.w3.org/2000/01/rdf-schema#subClassOf&gt;</td>\n",
       "    </tr>\n",
       "    <tr>\n",
       "      <th>1</th>\n",
       "      <td>&lt;http://caligraph.org/ontology/Sports_league_d...</td>\n",
       "      <td>&lt;http://caligraph.org/ontology/Organization_di...</td>\n",
       "      <td>&lt;http://www.w3.org/2000/01/rdf-schema#subClassOf&gt;</td>\n",
       "    </tr>\n",
       "    <tr>\n",
       "      <th>2</th>\n",
       "      <td>&lt;http://caligraph.org/ontology/Synagogue_compl...</td>\n",
       "      <td>&lt;http://caligraph.org/ontology/Religious_build...</td>\n",
       "      <td>&lt;http://www.w3.org/2000/01/rdf-schema#subClassOf&gt;</td>\n",
       "    </tr>\n",
       "    <tr>\n",
       "      <th>3</th>\n",
       "      <td>&lt;http://caligraph.org/ontology/Student_organiz...</td>\n",
       "      <td>&lt;http://caligraph.org/ontology/1890s_establish...</td>\n",
       "      <td>&lt;http://www.w3.org/2000/01/rdf-schema#subClassOf&gt;</td>\n",
       "    </tr>\n",
       "    <tr>\n",
       "      <th>4</th>\n",
       "      <td>&lt;http://caligraph.org/ontology/Art_museum_dise...</td>\n",
       "      <td>&lt;http://caligraph.org/ontology/Agent&gt;</td>\n",
       "      <td>&lt;http://www.w3.org/2000/01/rdf-schema#subClassOf&gt;</td>\n",
       "    </tr>\n",
       "  </tbody>\n",
       "</table>\n",
       "</div>"
      ],
      "text/plain": [
       "                                                   s  \\\n",
       "0  <http://caligraph.org/ontology/Mosque_complete...   \n",
       "1  <http://caligraph.org/ontology/Sports_league_d...   \n",
       "2  <http://caligraph.org/ontology/Synagogue_compl...   \n",
       "3  <http://caligraph.org/ontology/Student_organiz...   \n",
       "4  <http://caligraph.org/ontology/Art_museum_dise...   \n",
       "\n",
       "                                                   o  \\\n",
       "0  <http://caligraph.org/ontology/Architectural_s...   \n",
       "1  <http://caligraph.org/ontology/Organization_di...   \n",
       "2  <http://caligraph.org/ontology/Religious_build...   \n",
       "3  <http://caligraph.org/ontology/1890s_establish...   \n",
       "4              <http://caligraph.org/ontology/Agent>   \n",
       "\n",
       "                                                   p  \n",
       "0  <http://www.w3.org/2000/01/rdf-schema#subClassOf>  \n",
       "1  <http://www.w3.org/2000/01/rdf-schema#subClassOf>  \n",
       "2  <http://www.w3.org/2000/01/rdf-schema#subClassOf>  \n",
       "3  <http://www.w3.org/2000/01/rdf-schema#subClassOf>  \n",
       "4  <http://www.w3.org/2000/01/rdf-schema#subClassOf>  "
      ]
     },
     "execution_count": 4,
     "metadata": {},
     "output_type": "execute_result"
    }
   ],
   "source": [
    "train_df.head()"
   ]
  },
  {
   "cell_type": "code",
   "execution_count": 5,
   "id": "efab570f-683a-4c21-a2e2-2b5f5aa90783",
   "metadata": {},
   "outputs": [],
   "source": [
    "num_props = 0\n",
    "triplet_rels = []\n",
    "for prop in set(train_df['p']):\n",
    "    #print(prop,len(train_df[train_df['p']==prop]))\n",
    "    if len(train_df[train_df['p']==prop]) > 10:\n",
    "        num_props+=1\n",
    "        #print(prop)\n",
    "        triplet_rels.append(prop)"
   ]
  },
  {
   "cell_type": "code",
   "execution_count": 6,
   "id": "ce05d9c8-2c47-480a-8746-f36c0b06d714",
   "metadata": {},
   "outputs": [],
   "source": [
    "node_count = 0\n",
    "rels_count = 0\n",
    "triplets   = []\n",
    "node_dict  = dict({})\n",
    "rels_dict  = dict({})\n",
    "\n",
    "for r_ in triplet_rels:\n",
    "    for triplet in train_df[train_df['p']==r_].iterrows():\n",
    "        if triplet[1]['p'] not in rels_dict.keys():\n",
    "                rels_dict[triplet[1]['p']]=rels_count\n",
    "                rels_count+=1\n",
    "                \n",
    "        if triplet[1]['o'] not in node_dict.keys():\n",
    "                node_dict[triplet[1]['o']]=node_count\n",
    "                node_count+=1\n",
    "                \n",
    "        if triplet[1]['s'] not in node_dict.keys():\n",
    "                node_dict[triplet[1]['s']]=node_count\n",
    "                node_count+=1\n",
    "                \n",
    "        triplets.append((node_dict[triplet[1]['o']],rels_dict[triplet[1]['p']],node_dict[triplet[1]['s']]))\n",
    "                \n",
    "assert rels_count == len(triplet_rels)\n"
   ]
  },
  {
   "cell_type": "code",
   "execution_count": 7,
   "id": "2af2726f-fd7e-4213-8e6c-592805c46a64",
   "metadata": {},
   "outputs": [
    {
     "name": "stdout",
     "output_type": "stream",
     "text": [
      "24526 22 127764\n"
     ]
    }
   ],
   "source": [
    "print(node_count,rels_count,len(triplets))"
   ]
  },
  {
   "cell_type": "code",
   "execution_count": 8,
   "id": "25552ac3-72ba-4caa-a325-c914de607918",
   "metadata": {},
   "outputs": [
    {
     "data": {
      "text/plain": [
       "[(0, 0, 1),\n",
       " (2, 0, 3),\n",
       " (4, 0, 5),\n",
       " (6, 0, 7),\n",
       " (8, 0, 9),\n",
       " (10, 0, 11),\n",
       " (12, 0, 13),\n",
       " (14, 0, 15),\n",
       " (16, 0, 17),\n",
       " (18, 0, 19)]"
      ]
     },
     "execution_count": 8,
     "metadata": {},
     "output_type": "execute_result"
    }
   ],
   "source": [
    "triplets[:10]"
   ]
  },
  {
   "cell_type": "code",
   "execution_count": 9,
   "id": "ea777930-cea4-4ceb-a1da-3d222fb277df",
   "metadata": {},
   "outputs": [],
   "source": [
    "model_TransE  = TransE(node_count,rels_count)"
   ]
  },
  {
   "cell_type": "code",
   "execution_count": 10,
   "id": "3aae6179-419d-43f4-aa72-2aff55993084",
   "metadata": {},
   "outputs": [
    {
     "name": "stdout",
     "output_type": "stream",
     "text": [
      "epoch 0,\t train loss 1.14\n",
      "epoch 50,\t train loss 0.83\n",
      "epoch 100,\t train loss 0.74\n"
     ]
    }
   ],
   "source": [
    "model_TransE._train(triplets,[]);"
   ]
  },
  {
   "cell_type": "code",
   "execution_count": 11,
   "id": "f5abdd4b-7b47-48c2-ad1e-427d94552b28",
   "metadata": {},
   "outputs": [
    {
     "name": "stdout",
     "output_type": "stream",
     "text": [
      "epoch 0\tep_len 6\taverage loss 0.65\treward -0.60\tdone False\teps 1.00\n",
      "epoch 1000\tep_len 6\taverage loss 0.43\treward -0.40\tdone False\teps 0.61\n",
      "epoch 2000\tep_len 1\taverage loss 0.34\treward 1.00\tdone True\teps 0.37\n",
      "epoch 3000\tep_len 1\taverage loss 0.12\treward 1.00\tdone True\teps 0.22\n",
      "epoch 4000\tep_len 6\taverage loss 0.04\treward -0.60\tdone False\teps 0.14\n",
      "epoch 5000\tep_len 6\taverage loss 0.16\treward -0.60\tdone False\teps 0.08\n",
      "epoch 6000\tep_len 6\taverage loss 0.69\treward -0.40\tdone False\teps 0.05\n",
      "epoch 7000\tep_len 1\taverage loss 0.38\treward 1.00\tdone True\teps 0.03\n",
      "epoch 8000\tep_len 1\taverage loss 0.28\treward 1.00\tdone True\teps 0.02\n",
      "epoch 9000\tep_len 1\taverage loss 0.27\treward 1.00\tdone True\teps 0.01\n"
     ]
    }
   ],
   "source": [
    "env   = Env(triplets)\n",
    "agent = DQN_Network([60, 64, 2],lr=1e-3)\n",
    "agent_samples = agent.train(env,\n",
    "        model_TransE.entity_embds.detach().numpy(),\n",
    "        model_TransE.rel_embds.detach().numpy(),\n",
    "        episodes = 10000,eps_decay_rate=0.9995)"
   ]
  },
  {
   "cell_type": "code",
   "execution_count": 13,
   "id": "3b69eb5b-e3c1-4b54-914b-ed7a9dcad173",
   "metadata": {},
   "outputs": [
    {
     "data": {
      "text/plain": [
       "678"
      ]
     },
     "execution_count": 13,
     "metadata": {},
     "output_type": "execute_result"
    }
   ],
   "source": [
    "len(agent_samples)"
   ]
  },
  {
   "cell_type": "code",
   "execution_count": 30,
   "id": "c7ad7624-e820-47b3-b16c-75e6940e43d6",
   "metadata": {},
   "outputs": [],
   "source": [
    "def process_agent_kpaths(new_samples,K=5,reward_th=.9):\n",
    "    uniques=0\n",
    "    nounique=0\n",
    "    unique_agent_samples = []\n",
    "    for new_sample in new_samples:\n",
    "        if len(new_sample)==(K+1) and new_sample[-1]>reward_th:\n",
    "            unique_agent_samples.append(new_sample)  \n",
    "    return unique_agent_samples"
   ]
  },
  {
   "cell_type": "code",
   "execution_count": 31,
   "id": "c46ba9f6-9546-4171-868b-41242eb508f7",
   "metadata": {},
   "outputs": [],
   "source": [
    "agent_quads = process_agent_kpaths(agent_samples)"
   ]
  },
  {
   "cell_type": "code",
   "execution_count": 32,
   "id": "f079eabe-2568-46d6-ae47-7a7ccee6383b",
   "metadata": {},
   "outputs": [
    {
     "data": {
      "text/plain": [
       "3"
      ]
     },
     "execution_count": 32,
     "metadata": {},
     "output_type": "execute_result"
    }
   ],
   "source": [
    "len(agent_quads)"
   ]
  },
  {
   "cell_type": "code",
   "execution_count": 33,
   "id": "8dcf2e0b-0970-46d6-91f4-976901888a42",
   "metadata": {},
   "outputs": [
    {
     "data": {
      "text/plain": [
       "[[1196, 0, 518, 0, 2932, 1.1],\n",
       " [647, 0, 2159, 0, 566, 1.1],\n",
       " [14, 0, 3955, 0, 2624, 1.1]]"
      ]
     },
     "execution_count": 33,
     "metadata": {},
     "output_type": "execute_result"
    }
   ],
   "source": [
    "agent_quads"
   ]
  }
 ],
 "metadata": {
  "kernelspec": {
   "display_name": "Python 3 (ipykernel)",
   "language": "python",
   "name": "python3"
  },
  "language_info": {
   "codemirror_mode": {
    "name": "ipython",
    "version": 3
   },
   "file_extension": ".py",
   "mimetype": "text/x-python",
   "name": "python",
   "nbconvert_exporter": "python",
   "pygments_lexer": "ipython3",
   "version": "3.9.12"
  }
 },
 "nbformat": 4,
 "nbformat_minor": 5
}
